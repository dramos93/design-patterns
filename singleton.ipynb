{
 "cells": [
  {
   "cell_type": "code",
   "execution_count": 1,
   "metadata": {},
   "outputs": [
    {
     "name": "stdout",
     "output_type": "stream",
     "text": [
      "False\n",
      "True\n"
     ]
    }
   ],
   "source": [
    "class ApplicationState:\n",
    "    instance = None\n",
    "    def __init__(self):\n",
    "        self.is_logged_in = False\n",
    "        \n",
    "        \n",
    "    @staticmethod\n",
    "    def get_app_state():\n",
    "        if not ApplicationState.instance:\n",
    "            ApplicationState.instance = ApplicationState()\n",
    "        return ApplicationState.instance\n",
    "        \n",
    "    def __enter__(self):\n",
    "        return print(\"entrou\")\n",
    "\n",
    "app_state_1 = ApplicationState.get_app_state()\n",
    "print(app_state_1.is_logged_in)\n",
    "app_state_2 = ApplicationState.get_app_state()\n",
    "app_state_2.is_logged_in = True\n",
    "print(app_state_1.is_logged_in)"
   ]
  }
 ],
 "metadata": {
  "kernelspec": {
   "display_name": "desing-patterns-9NkkwnQd-py3.11",
   "language": "python",
   "name": "python3"
  },
  "language_info": {
   "codemirror_mode": {
    "name": "ipython",
    "version": 3
   },
   "file_extension": ".py",
   "mimetype": "text/x-python",
   "name": "python",
   "nbconvert_exporter": "python",
   "pygments_lexer": "ipython3",
   "version": "3.10.13"
  }
 },
 "nbformat": 4,
 "nbformat_minor": 2
}
